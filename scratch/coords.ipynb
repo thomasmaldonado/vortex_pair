{
 "cells": [
  {
   "cell_type": "code",
   "execution_count": 23,
   "metadata": {},
   "outputs": [
    {
     "data": {
      "text/latex": [
       "$\\displaystyle \\log{\\left(\\frac{a + v_{p}}{a - v_{p}} \\right)}$"
      ],
      "text/plain": [
       "log((a + v_p)/(a - v_p))"
      ]
     },
     "metadata": {},
     "output_type": "display_data"
    },
    {
     "data": {
      "text/latex": [
       "$\\displaystyle \\frac{2 a}{\\left(a - v_{p}\\right) \\left(a + v_{p}\\right)}$"
      ],
      "text/plain": [
       "2*a/((a - v_p)*(a + v_p))"
      ]
     },
     "metadata": {},
     "output_type": "display_data"
    },
    {
     "data": {
      "text/latex": [
       "$\\displaystyle \\frac{4 a v_{p}}{\\left(a - v_{p}\\right)^{2} \\left(a + v_{p}\\right)^{2}}$"
      ],
      "text/plain": [
       "4*a*v_p/((a - v_p)**2*(a + v_p)**2)"
      ]
     },
     "metadata": {},
     "output_type": "display_data"
    },
    {
     "data": {
      "text/latex": [
       "$\\displaystyle a \\tanh{\\left(\\frac{v}{2} \\right)}$"
      ],
      "text/plain": [
       "a*tanh(v/2)"
      ]
     },
     "metadata": {},
     "output_type": "display_data"
    },
    {
     "data": {
      "text/latex": [
       "$\\displaystyle \\frac{a}{\\cosh{\\left(v \\right)} + 1}$"
      ],
      "text/plain": [
       "a/(cosh(v) + 1)"
      ]
     },
     "metadata": {},
     "output_type": "display_data"
    },
    {
     "data": {
      "text/latex": [
       "$\\displaystyle - \\frac{a \\tanh{\\left(\\frac{v}{2} \\right)}}{2 \\cosh^{2}{\\left(\\frac{v}{2} \\right)}}$"
      ],
      "text/plain": [
       "-a*tanh(v/2)/(2*cosh(v/2)**2)"
      ]
     },
     "metadata": {},
     "output_type": "display_data"
    }
   ],
   "source": [
    "from sympy import symbols, Function, cos, sin, diff, ln, solve\n",
    "from sympy.utilities import lambdify\n",
    "from sympy.vector import CoordSys3D\n",
    "from sympy.functions.elementary.hyperbolic import cosh, sinh\n",
    "from numba import njit\n",
    "\n",
    "# define symbols and functions\n",
    "v, vp, a, j = symbols('v v_p a j')\n",
    "\n",
    "v_of_vp= ln((a+vp)/(a-vp))\n",
    "vp_of_v = solve(v_of_vp - v, vp)[0]\n",
    "\n",
    "dv_dvp = v_of_vp.diff(vp).doit().simplify()\n",
    "dv2_dvp2 = v_of_vp.diff(vp,2).doit().simplify()\n",
    "\n",
    "dvp_dv = vp_of_v.diff(v).doit().simplify()\n",
    "dvp2_dv2 = vp_of_v.diff(v, 2).doit().simplify()\n",
    "\n",
    "args = [vp, a, j]\n",
    "v_of_vp_lambdified = lambdify(args, v_of_vp)\n",
    "dv_dvp_lambdified = lambdify(args, dv_dvp)\n",
    "dv2_dvp2_lambdified = lambdify(args, dv2_dvp2)\n",
    "\n",
    "args = [v, a, j]\n",
    "vp_of_v_lambdified = lambdify(args, vp_of_v)\n",
    "dvp_dv_lambdified = lambdify(args, dvp_dv)\n",
    "dvp2_dv2_lambdified = lambdify(args, dvp2_dv2)\n",
    "\n",
    "v_of_vp_lambdified = njit(v_of_vp_lambdified)\n",
    "dv_dvp_lambdified = njit(dv_dvp_lambdified)\n",
    "dv2_dvp2_lambdified = njit(dv2_dvp2_lambdified)\n",
    "\n",
    "vp_of_v_lambdified = njit(vp_of_v_lambdified)\n",
    "dvp_dv_lambdified = njit(dvp_dv_lambdified)\n",
    "dvp2_dv2_lambdified = njit(dvp2_dv2_lambdified)"
   ]
  },
  {
   "cell_type": "code",
   "execution_count": null,
   "metadata": {},
   "outputs": [],
   "source": []
  }
 ],
 "metadata": {
  "kernelspec": {
   "display_name": "base",
   "language": "python",
   "name": "python3"
  },
  "language_info": {
   "codemirror_mode": {
    "name": "ipython",
    "version": 3
   },
   "file_extension": ".py",
   "mimetype": "text/x-python",
   "name": "python",
   "nbconvert_exporter": "python",
   "pygments_lexer": "ipython3",
   "version": "3.11.7"
  }
 },
 "nbformat": 4,
 "nbformat_minor": 2
}
