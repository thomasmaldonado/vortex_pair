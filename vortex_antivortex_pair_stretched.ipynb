{
 "cells": [
  {
   "cell_type": "code",
   "execution_count": 2,
   "id": "51814416",
   "metadata": {},
   "outputs": [],
   "source": [
    "from sympy import symbols, Function, cos, sin, diff\n",
    "from sympy.utilities import lambdify\n",
    "from sympy.vector import CoordSys3D, is_solenoidal, curl, Del\n",
    "from sympy.functions.elementary.hyperbolic import cosh, sinh\n",
    "\n",
    "# define symbols and functions\n",
    "V = Function('V')\n",
    "Fu = Function('Fu')\n",
    "Fv = Function('Fv')\n",
    "C = Function('C')\n",
    "\n",
    "V_syms = symbols('V, V_u, V_v, V_uu, V_uv, V_vv')\n",
    "Fu_syms = symbols('Fu, Fu_u, Fu_v, Fu_uu, Fu_uv, Fu_vv')\n",
    "Fv_syms = symbols('Fv, Fv_u, Fv_v, Fv_uu, Fv_uv, Fv_vv')\n",
    "C_syms = symbols('C, C_u, C_v, C_uu, C_uv, C_vv')\n",
    "\n",
    "u, v, a, j, n= symbols('u v a j n')"
   ]
  },
  {
   "cell_type": "code",
   "execution_count": 3,
   "id": "b00900fb",
   "metadata": {},
   "outputs": [],
   "source": [
    "# helper function to turn functions into symbols\n",
    "def symbolify(expr, fun, syms):\n",
    "    expr = expr.subs(fun.diff(v,2), syms[-1])\n",
    "    expr = expr.subs(fun.diff(u).diff(v), syms[-2])\n",
    "    expr = expr.subs(fun.diff(u,2), syms[-3])\n",
    "    expr = expr.subs(fun.diff(v), syms[-4])\n",
    "    expr = expr.subs(fun.diff(u), syms[-5])\n",
    "    expr = expr.subs(fun, syms[-6])\n",
    "    return expr"
   ]
  },
  {
   "cell_type": "code",
   "execution_count": 4,
   "id": "84f653b5",
   "metadata": {},
   "outputs": [
    {
     "name": "stdout",
     "output_type": "stream",
     "text": [
      "V comp\n"
     ]
    },
    {
     "data": {
      "text/latex": [
       "$\\displaystyle C^{2} V - j - \\frac{\\left(V_{uu} + V_{vv}\\right) \\left(- \\cos{\\left(u \\right)} + \\cosh{\\left(v \\right)}\\right)^{2}}{a^{2}}$"
      ],
      "text/plain": [
       "C**2*V - j - (V_uu + V_vv)*(-cos(u) + cosh(v))**2/a**2"
      ]
     },
     "metadata": {},
     "output_type": "display_data"
    },
    {
     "name": "stdout",
     "output_type": "stream",
     "text": [
      "Fu comp\n"
     ]
    },
    {
     "data": {
      "text/latex": [
       "$\\displaystyle C^{2} Fu - \\frac{C^{2} n \\cosh{\\left(v \\right)}}{a} - \\frac{Fu \\cos{\\left(u \\right)} \\cosh{\\left(v \\right)}}{a^{2}} + \\frac{Fu \\cosh^{2}{\\left(v \\right)}}{a^{2}} - \\frac{Fu_{vv} \\cos^{2}{\\left(u \\right)}}{a^{2}} + \\frac{2 Fu_{vv} \\cos{\\left(u \\right)} \\cosh{\\left(v \\right)}}{a^{2}} - \\frac{Fu_{vv} \\cosh^{2}{\\left(v \\right)}}{a^{2}} - \\frac{Fv_{u} \\cos{\\left(u \\right)} \\sinh{\\left(v \\right)}}{a^{2}} + \\frac{Fv_{u} \\sinh{\\left(v \\right)} \\cosh{\\left(v \\right)}}{a^{2}} + \\frac{Fv_{uv} \\cos^{2}{\\left(u \\right)}}{a^{2}} - \\frac{2 Fv_{uv} \\cos{\\left(u \\right)} \\cosh{\\left(v \\right)}}{a^{2}} + \\frac{Fv_{uv} \\cosh^{2}{\\left(v \\right)}}{a^{2}} + \\frac{Fv_{v} \\sin{\\left(u \\right)} \\cos{\\left(u \\right)}}{a^{2}} - \\frac{Fv_{v} \\sin{\\left(u \\right)} \\cosh{\\left(v \\right)}}{a^{2}} + \\frac{n \\cos^{2}{\\left(u \\right)} \\cosh{\\left(v \\right)}}{a^{3}} - \\frac{n \\cos{\\left(u \\right)} \\cosh^{2}{\\left(v \\right)}}{a^{3}}$"
      ],
      "text/plain": [
       "C**2*Fu - C**2*n*cosh(v)/a - Fu*cos(u)*cosh(v)/a**2 + Fu*cosh(v)**2/a**2 - Fu_vv*cos(u)**2/a**2 + 2*Fu_vv*cos(u)*cosh(v)/a**2 - Fu_vv*cosh(v)**2/a**2 - Fv_u*cos(u)*sinh(v)/a**2 + Fv_u*sinh(v)*cosh(v)/a**2 + Fv_uv*cos(u)**2/a**2 - 2*Fv_uv*cos(u)*cosh(v)/a**2 + Fv_uv*cosh(v)**2/a**2 + Fv_v*sin(u)*cos(u)/a**2 - Fv_v*sin(u)*cosh(v)/a**2 + n*cos(u)**2*cosh(v)/a**3 - n*cos(u)*cosh(v)**2/a**3"
      ]
     },
     "metadata": {},
     "output_type": "display_data"
    },
    {
     "name": "stdout",
     "output_type": "stream",
     "text": [
      "Fv comp\n"
     ]
    },
    {
     "data": {
      "text/latex": [
       "$\\displaystyle C^{2} Fv + \\frac{Fu_{u} \\cos{\\left(u \\right)} \\sinh{\\left(v \\right)}}{a^{2}} - \\frac{Fu_{u} \\sinh{\\left(v \\right)} \\cosh{\\left(v \\right)}}{a^{2}} + \\frac{Fu_{uv} \\cos^{2}{\\left(u \\right)}}{a^{2}} - \\frac{2 Fu_{uv} \\cos{\\left(u \\right)} \\cosh{\\left(v \\right)}}{a^{2}} + \\frac{Fu_{uv} \\cosh^{2}{\\left(v \\right)}}{a^{2}} - \\frac{Fu_{v} \\sin{\\left(u \\right)} \\cos{\\left(u \\right)}}{a^{2}} + \\frac{Fu_{v} \\sin{\\left(u \\right)} \\cosh{\\left(v \\right)}}{a^{2}} - \\frac{Fv \\cos^{2}{\\left(u \\right)}}{a^{2}} + \\frac{Fv \\cos{\\left(u \\right)} \\cosh{\\left(v \\right)}}{a^{2}} - \\frac{Fv_{uu} \\cos^{2}{\\left(u \\right)}}{a^{2}} + \\frac{2 Fv_{uu} \\cos{\\left(u \\right)} \\cosh{\\left(v \\right)}}{a^{2}} - \\frac{Fv_{uu} \\cosh^{2}{\\left(v \\right)}}{a^{2}} + \\frac{n \\sin{\\left(u \\right)} \\cos{\\left(u \\right)} \\sinh{\\left(v \\right)}}{a^{3}} - \\frac{n \\sin{\\left(u \\right)} \\sinh{\\left(v \\right)} \\cosh{\\left(v \\right)}}{a^{3}}$"
      ],
      "text/plain": [
       "C**2*Fv + Fu_u*cos(u)*sinh(v)/a**2 - Fu_u*sinh(v)*cosh(v)/a**2 + Fu_uv*cos(u)**2/a**2 - 2*Fu_uv*cos(u)*cosh(v)/a**2 + Fu_uv*cosh(v)**2/a**2 - Fu_v*sin(u)*cos(u)/a**2 + Fu_v*sin(u)*cosh(v)/a**2 - Fv*cos(u)**2/a**2 + Fv*cos(u)*cosh(v)/a**2 - Fv_uu*cos(u)**2/a**2 + 2*Fv_uu*cos(u)*cosh(v)/a**2 - Fv_uu*cosh(v)**2/a**2 + n*sin(u)*cos(u)*sinh(v)/a**3 - n*sin(u)*sinh(v)*cosh(v)/a**3"
      ]
     },
     "metadata": {},
     "output_type": "display_data"
    },
    {
     "name": "stdout",
     "output_type": "stream",
     "text": [
      "C comp\n"
     ]
    },
    {
     "data": {
      "text/latex": [
       "$\\displaystyle C \\left(Fv^{2} - V^{2} + \\left(Fu - \\frac{n \\cosh{\\left(v \\right)}}{a}\\right)^{2} + 1\\right) - \\frac{\\left(C_{uu} + C_{vv}\\right) \\left(- \\cos{\\left(u \\right)} + \\cosh{\\left(v \\right)}\\right)^{2}}{a^{2}}$"
      ],
      "text/plain": [
       "C*(Fv**2 - V**2 + (Fu - n*cosh(v)/a)**2 + 1) - (C_uu + C_vv)*(-cos(u) + cosh(v))**2/a**2"
      ]
     },
     "metadata": {},
     "output_type": "display_data"
    },
    {
     "name": "stdout",
     "output_type": "stream",
     "text": [
      "B\n"
     ]
    },
    {
     "data": {
      "text/latex": [
       "$\\displaystyle - \\frac{Fv a \\sin{\\left(u \\right)} - \\left(Fu a - n \\cosh{\\left(v \\right)}\\right) \\sinh{\\left(v \\right)} + \\left(\\cos{\\left(u \\right)} - \\cosh{\\left(v \\right)}\\right) \\left(- Fu_{v} a + Fv_{u} a + n \\sinh{\\left(v \\right)}\\right)}{a^{2}}$"
      ],
      "text/plain": [
       "-(Fv*a*sin(u) - (Fu*a - n*cosh(v))*sinh(v) + (cos(u) - cosh(v))*(-Fu_v*a + Fv_u*a + n*sinh(v)))/a**2"
      ]
     },
     "metadata": {},
     "output_type": "display_data"
    }
   ],
   "source": [
    "from sympy.vector import CoordSys3D\n",
    "BP = CoordSys3D('BP')\n",
    "u_hat, v_hat, z_hat = BP.i, BP.j, BP.k\n",
    "\n",
    "h = a/(cosh(v)-cos(u))\n",
    "\n",
    "def gradient(f):\n",
    "    return (diff(f, u)*BP.i + diff(f, v)*BP.j)/h\n",
    "\n",
    "def div(F):\n",
    "    Fu = F.dot(u_hat)\n",
    "    Fv = F.dot(v_hat)\n",
    "    return (diff(Fu*h, u) + diff(Fv*h, v)) / h**2\n",
    "\n",
    "def curl(F):\n",
    "    Fu = F.dot(u_hat)\n",
    "    Fv = F.dot(v_hat)\n",
    "    Fz = F.dot(z_hat)\n",
    "    curl_u = u_hat * diff(Fz, v) / h\n",
    "    curl_v = - v_hat * diff(Fz, u) / h \n",
    "    curl_z = z_hat * (diff(h * Fv, u) - diff(h * Fu, v)) / h**2\n",
    "    return curl_u + curl_v + curl_z\n",
    "\n",
    "def laplacian(f):\n",
    "    return div(gradient(f))\n",
    "\n",
    "Au = Fu(u,v) - n * cosh(v) / a\n",
    "Av = Fv(u,v)\n",
    "\n",
    "#eq0_Fu = (1/h)*diff((1/h**2)*(diff(h*Fv(u,v), u) - diff(h * (Fu(u,v) - n*cosh(v)/a), v)),v) + C(u,v)**2*(Fu(u,v) - n*cosh(v)/a)\n",
    "#eq0_Fu = eq0_Fu.doit().simplify()\n",
    "eq0_V = (-laplacian(V(u,v)) + C(u,v)**2 * V(u,v) - j).doit()\n",
    "eq0_F = (curl(curl(Au*u_hat + Av*v_hat).simplify()) + C(u,v)**2 * (Au*u_hat + Av*v_hat)).doit().expand()\n",
    "eq0_Fu = eq0_F.dot(u_hat)\n",
    "eq0_Fv = eq0_F.dot(v_hat)\n",
    "eq0_C = (-laplacian(C(u,v)) + (1 - V(u,v)**2 + Au**2 + Av**2) * C(u,v)).doit()\n",
    "\n",
    "\"\"\"\n",
    "# ELECTROSTATIC REDUCTION\n",
    "eq0_V = eq0_V.subs(As(s,t), 0).subs(At(s,t), 0).doit()\n",
    "eq0_As = eq0_As.subs(As(s,t), 0).subs(At(s,t), 0).doit()\n",
    "eq0_At = eq0_At.subs(As(s,t), 0).subs(At(s,t), 0).doit()\n",
    "#eq0_C = eq0_C.subs(As(s,t), cosh(t)/a).subs(At(s,t), 0).doit()\n",
    "eq0_C = eq0_C.subs(As(s,t), 0).subs(At(s,t), 0).doit()\n",
    "\"\"\"\n",
    "\n",
    "eq0_V = symbolify(eq0_V, V(u,v), V_syms)\n",
    "eq0_V = symbolify(eq0_V, C(u,v), C_syms)\n",
    "\n",
    "eq0_Fu = symbolify(eq0_Fu, Fu(u,v), Fu_syms)\n",
    "eq0_Fu = symbolify(eq0_Fu, Fv(u,v), Fv_syms)\n",
    "eq0_Fu = symbolify(eq0_Fu, C(u,v), C_syms)\n",
    "\n",
    "eq0_Fv = symbolify(eq0_Fv, Fu(u,v), Fu_syms)\n",
    "eq0_Fv = symbolify(eq0_Fv, Fv(u,v), Fv_syms)\n",
    "eq0_Fv = symbolify(eq0_Fv, C(u,v), C_syms)\n",
    "\n",
    "eq0_C = symbolify(eq0_C, V(u,v), V_syms)\n",
    "eq0_C = symbolify(eq0_C, Fu(u,v), Fu_syms)\n",
    "eq0_C = symbolify(eq0_C, Fv(u,v), Fv_syms)\n",
    "eq0_C = symbolify(eq0_C, C(u,v), C_syms)\n",
    "\n",
    "print('V comp')\n",
    "display(eq0_V)\n",
    "print('Fu comp')\n",
    "display(eq0_Fu)\n",
    "print('Fv comp')\n",
    "display(eq0_Fv)\n",
    "print('C comp')\n",
    "display(eq0_C)\n",
    "\n",
    "B = curl(Au*u_hat+Av*v_hat).dot(z_hat).simplify()\n",
    "B = symbolify(B, Fu(u,v), Fu_syms)\n",
    "B = symbolify(B, Fv(u,v), Fv_syms)\n",
    "print('B')\n",
    "display(B)"
   ]
  },
  {
   "cell_type": "code",
   "execution_count": 5,
   "id": "ed5eb6fe",
   "metadata": {},
   "outputs": [
    {
     "name": "stdout",
     "output_type": "stream",
     "text": [
      "[V, V_u, V_v, V_uu, V_uv, V_vv, Fu, Fu_u, Fu_v, Fu_uu, Fu_uv, Fu_vv, Fv, Fv_u, Fv_v, Fv_uu, Fv_uv, Fv_vv, C, C_u, C_v, C_uu, C_uv, C_vv, u, v, a, j, n]\n",
      "29\n",
      "[Fu, Fu_u, Fu_v, Fu_uu, Fu_uv, Fu_vv, Fv, Fv_u, Fv_v, Fv_uu, Fv_uv, Fv_vv, u, v, a, n]\n",
      "16\n"
     ]
    }
   ],
   "source": [
    "args = list(V_syms)\n",
    "args.extend(Fu_syms)\n",
    "args.extend(Fv_syms)\n",
    "args.extend(C_syms)\n",
    "args.extend([u, v, a, j, n])\n",
    "\n",
    "print(args)\n",
    "print(len(args))\n",
    "\n",
    "eq0_V_lambdified = lambdify(args, eq0_V, 'numpy')\n",
    "eq0_Fu_lambdified = lambdify(args, eq0_Fu, 'numpy')\n",
    "eq0_Fv_lambdified = lambdify(args, eq0_Fv, 'numpy')\n",
    "eq0_C_lambdified = lambdify(args, eq0_C, 'numpy')\n",
    "\n",
    "B_args = list(Fu_syms)\n",
    "B_args.extend(Fv_syms)\n",
    "B_args.extend([u,v,a,n])\n",
    "print(B_args)\n",
    "print(len(B_args))\n",
    "B_lambdified = lambdify(B_args, B)"
   ]
  },
  {
   "cell_type": "code",
   "execution_count": 6,
   "id": "227f2a31",
   "metadata": {},
   "outputs": [],
   "source": [
    "from numba import njit, jit, typeof, prange\n",
    "eq0_V_lambdified = njit(eq0_V_lambdified)\n",
    "eq0_Fu_lambdified = njit(eq0_Fu_lambdified)\n",
    "eq0_Fv_lambdified = njit(eq0_Fv_lambdified)\n",
    "eq0_C_lambdified = njit(eq0_C_lambdified)"
   ]
  },
  {
   "cell_type": "code",
   "execution_count": 7,
   "metadata": {},
   "outputs": [],
   "source": [
    "from matplotlib import pyplot as plt\n",
    "from time import time\n",
    "import numpy as np\n",
    "from scipy.optimize import fsolve"
   ]
  },
  {
   "cell_type": "code",
   "execution_count": 8,
   "id": "92f9d14a",
   "metadata": {},
   "outputs": [],
   "source": [
    "# central difference scheme \n",
    "# axis = axis along which derivatives are taken\n",
    "\n",
    "@njit(cache = True)\n",
    "def d_du(f, h, n, boundary_left, boundary_right):\n",
    "    boundary_left = np.reshape(boundary_left, (1, f.shape[1]))\n",
    "    boundary_right = np.reshape(boundary_right, (1, f.shape[1]))\n",
    "    f_b = np.concatenate((boundary_left, f, boundary_right))\n",
    "    f_b = f_b.transpose()\n",
    "    f_b_shape = f_b.shape\n",
    "    f_b = f_b.flatten()\n",
    "    if n == 1:\n",
    "        padded = (-(1/2)*np.roll(f_b, 1) + (1/2)*np.roll(f_b, -1))/h**n\n",
    "    elif n == 2:\n",
    "        padded = (np.roll(f_b, 1) -2*f_b + np.roll(f_b, -1))/h**n\n",
    "    f_b = np.reshape(padded, f_b_shape)\n",
    "    f_b = f_b.transpose()\n",
    "    return f_b[1:-1,:]\n",
    "\n",
    "@njit(cache = True)\n",
    "def d_dv(f, h, n, boundary_left, boundary_right):\n",
    "    return d_du(f.transpose(), h, n, boundary_left, boundary_right).transpose()"
   ]
  },
  {
   "cell_type": "code",
   "execution_count": 9,
   "id": "98463c40",
   "metadata": {},
   "outputs": [
    {
     "name": "stdout",
     "output_type": "stream",
     "text": [
      "1082824.184305946\n",
      "[204.87804878 102.25609756  67.96747967  50.76219512  40.3902439\n",
      "  33.43495935  28.43205575  24.64939024  21.6802168   19.2804878\n",
      "  17.29490022  15.6199187   14.18386492  12.93554007  11.83739837\n",
      "  10.86128049   9.9856528    9.19376694   8.47240051   7.81097561\n",
      "   7.20092915   6.63525499   6.10816543   5.6148374    5.15121951\n",
      "   4.71388368   4.29990967   3.90679443   3.53238015   3.17479675\n",
      "   2.83241542   2.50381098   2.18773097   1.8830703    1.58885017\n",
      "   1.30420054   1.02834542   0.7605905    0.5003127    0.24695122]\n",
      "The solution converged.\n",
      "41.39542317390442\n"
     ]
    },
    {
     "data": {
      "image/png": "[encoded data removed]",
      "text/plain": [
       "<Figure size 640x480 with 1 Axes>"
      ]
     },
     "metadata": {},
     "output_type": "display_data"
    },
    {
     "data": {
      "image/png": "[encoded data removed]",
      "text/plain": [
       "<Figure size 640x480 with 1 Axes>"
      ]
     },
     "metadata": {},
     "output_type": "display_data"
    },
    {
     "data": {
      "image/png": "[encoded data removed]",
      "text/plain": [
       "<Figure size 640x480 with 1 Axes>"
      ]
     },
     "metadata": {},
     "output_type": "display_data"
    },
    {
     "data": {
      "image/png": "[encoded data removed]",
      "text/plain": [
       "<Figure size 640x480 with 1 Axes>"
      ]
     },
     "metadata": {},
     "output_type": "display_data"
    }
   ],
   "source": [
    "a = 10\n",
    "k = 1/np.sqrt(2)\n",
    "J = -4/k**4\n",
    "N = 1\n",
    "nu = 20 # even\n",
    "nv = 40\n",
    "#dv = np.log((a+x_min)/(a-x_min))\n",
    "\n",
    "nx = nv\n",
    "Xs = np.linspace(0, a, nv+2)[1:-1]\n",
    "Vs = np.log((a+Xs)/(a-Xs))\n",
    "#Vs = np.linspace(0, 2, nv + 1)[1:]\n",
    "Us = np.linspace(0, 2*np.pi, nu + 1)[:-1]\n",
    "dx = Xs[1]-Xs[0]\n",
    "du = Us[1] - Us[0]\n",
    "dv = Vs[1] - Vs[0]\n",
    "\n",
    "dx_dv = np.zeros((nu, nv))\n",
    "dx2_dv2 = np.zeros((nu, nv))\n",
    "for j, v in enumerate(Vs):\n",
    "    dx_dv[:,j] = a / (1+np.cosh(v))\n",
    "    dx2_dv2[:,j] = -a * np.sinh(v) / (1 + np.cosh(v))**2\n",
    "\n",
    "@njit(cache = True)\n",
    "def d_dx(f, h, n, boundary_left, boundary_right):\n",
    "    return d_du(f.transpose(), h, n, boundary_left, boundary_right).transpose()\n",
    "\n",
    "@njit(cache = True)\n",
    "def d_dv(f, h, n, boundary_left, boundary_right):\n",
    "    if n == 0:\n",
    "        return f\n",
    "    df_dx = d_dx(f, dx, 1, boundary_left, boundary_right)\n",
    "    if n == 1:\n",
    "        return df_dx * dx_dv\n",
    "    df2_dx2 = d_dx(f, dx, 2, boundary_left, boundary_right)\n",
    "    return df2_dx2 * dx_dv**2 + df_dx * dx2_dv2\n",
    "\n",
    "dAs = np.zeros((nu, nv))\n",
    "for i, u in enumerate(Us):\n",
    "    for j, v in enumerate(Vs):\n",
    "        h = a / (np.cosh(v) - np.cos(u))\n",
    "        dAs[i,j] = h**2 * du * dv\n",
    "print(np.max(dAs))\n",
    "\n",
    "\n",
    "radii = a/np.sinh(Vs)\n",
    "print(radii)\n",
    "\n",
    "@njit(cache = True)\n",
    "def dfunc_du(func, n):\n",
    "    boundary_left = np.ascontiguousarray(func[-1,:])\n",
    "    boundary_right = np.ascontiguousarray(func[0,:])\n",
    "    return d_du(func, du, n, boundary_left, boundary_right)\n",
    "\n",
    "@njit(cache = True)\n",
    "def dV_du(V, n):\n",
    "    return dfunc_du(V, n)\n",
    "\n",
    "@njit(cache = True)\n",
    "def dFu_du(Fu, n):\n",
    "    return dfunc_du(Fu, n)\n",
    "\n",
    "@njit(cache = True)\n",
    "def dFv_du(Fv, n):\n",
    "    return dfunc_du(Fv, n)\n",
    "\n",
    "@njit(cache = True)\n",
    "def dF_du(Fu, Fv, n):\n",
    "    return dfunc_du(Fu, n), dfunc_du(Fv, n)\n",
    "\n",
    "@njit(cache = True)\n",
    "def dC_du(C, n):\n",
    "    return dfunc_du(C, n)\n",
    "\n",
    "@njit(cache = True)\n",
    "def M(u,v):\n",
    "    M_00 = -np.sin(u)*np.sinh(v) / (np.cosh(v)-np.cos(u))\n",
    "    M_01 = (1 - np.cos(u)*np.cosh(v)) / (np.cosh(v)-np.cos(u))\n",
    "    M_10 = - M_01\n",
    "    M_11 = M_00\n",
    "    return \n",
    "\n",
    "@njit(cache = True)\n",
    "def BP2cart(Fu, Fv, u, v):\n",
    "    M_00 = -np.sin(u)*np.sinh(v) / (np.cosh(v)-np.cos(u))\n",
    "    M_01 = (1 - np.cos(u)*np.cosh(v)) / (np.cosh(v)-np.cos(u))\n",
    "    M_10 = - M_01\n",
    "    M_11 = M_00\n",
    "    return Fu * M_00 + Fv * M_01, Fu * M_10 + Fv * M_11\n",
    "    #return np.dot(M(u,v), np.array([Fu, Fv]))\n",
    "\n",
    "@njit(cache = True)\n",
    "def cart2BP(Fx, Fy, u, v):\n",
    "    M_00 = -np.sin(u)*np.sinh(v) / (np.cosh(v)-np.cos(u))\n",
    "    M_01 = (1 - np.cos(u)*np.cosh(v)) / (np.cosh(v)-np.cos(u))\n",
    "    M_10 = - M_01\n",
    "    M_11 = M_00\n",
    "    MT_00, MT_01, MT_10, MT_11 = M_00, M_10, M_01, M_11\n",
    "    return Fx * MT_00 + Fy * MT_01, Fx * M_10 + Fy * M_11\n",
    "    #return np.dot(M(u,v).transpose(), np.array([Fx, Fy]))\n",
    "\n",
    "@njit(cache = True)\n",
    "def cart2BPinfinity(Fx, Fy, u):\n",
    "    M_00 = -np.sin(u)\n",
    "    M_01 = -np.cos(u)\n",
    "    M_10 = - M_01\n",
    "    M_11 = M_00\n",
    "    MT_00, MT_01, MT_10, MT_11 = M_00, M_10, M_01, M_11\n",
    "    return Fx * MT_00 + Fy * MT_01, Fx * M_10 + Fy * M_11\n",
    "\n",
    "\n",
    "@njit(cache = True)\n",
    "def dV_dv(V, n):\n",
    "    boundary_left = np.ascontiguousarray(V[:,0])\n",
    "    boundary_left[0] = -1\n",
    "    boundary_right = np.full(np.shape(V)[0], np.mean(V[:,-1]))\n",
    "    return d_dv(V, dv, n, boundary_left, boundary_right)\n",
    "\n",
    "@njit(parallel = True, cache = True)\n",
    "def dF_dv(Fu, Fv, n = 1):\n",
    "    xs, ys = BP2cart(Fu[:,-1],  Fv[:,-1], Us, Vs[-1])\n",
    "    avg_x = np.mean(xs)\n",
    "    avg_y = np.mean(ys)\n",
    "    boundary_left_u = np.ascontiguousarray(Fu[:,0])\n",
    "    boundary_left_u[0] = N / a\n",
    "    boundary_left_v = np.zeros(nu)\n",
    "    #boundary_right_u, boundary_right_v =  cart2BP(avg_x, avg_y, Us, Vs[-1]+dv)\n",
    "    boundary_right_u, boundary_right_v =  cart2BPinfinity(avg_x, avg_y, Us)\n",
    "    Fu_result = d_dv(Fu, dv, n, boundary_left_u, boundary_right_u)\n",
    "    Fv_result = d_dv(Fv, dv, n, boundary_left_v, boundary_right_v)\n",
    "    return Fu_result, Fv_result\n",
    "\n",
    "@njit(cache = True)\n",
    "def dC_dv(C, n = 1):\n",
    "    boundary_left = np.ascontiguousarray(C[:,0])\n",
    "    boundary_left[0] = np.sqrt(-J)\n",
    "    boundary_right = np.zeros(np.shape(C)[0])\n",
    "    return d_dv(C, dv, n, boundary_left, boundary_right)\n",
    "\n",
    "\n",
    "@njit(parallel = True, cache = True)\n",
    "def f(V_Fu_Fv_C):\n",
    "    #atime = time()\n",
    "    V = np.reshape(V_Fu_Fv_C[0:(nu*nv)], (nu,nv))\n",
    "    Fu = np.reshape(V_Fu_Fv_C[(nu*nv):2*(nu*nv)], (nu,nv))\n",
    "    Fv = np.reshape(V_Fu_Fv_C[2*(nu*nv):3*(nu*nv)], (nu,nv))\n",
    "    C = np.reshape(V_Fu_Fv_C[3*(nu*nv):],(nu,nv))\n",
    "    eq0_V = np.zeros((nu, nv))\n",
    "    eq0_Fu = np.zeros((nu, nv))\n",
    "    eq0_Fv = np.zeros((nu, nv))\n",
    "    eq0_C = np.zeros((nu, nv))\n",
    "    V_u = dV_du(V, n = 1)\n",
    "    V_v = dV_dv(V, n = 1)\n",
    "    V_uu = dV_du(V, n = 2)\n",
    "    V_uv = dV_du(V_v, n = 1)\n",
    "    V_vv = dV_dv(V, n = 2)\n",
    "    Fu_u, Fv_u = dF_du(Fu, Fv, n = 1)\n",
    "    Fu_v, Fv_v = dF_dv(Fu, Fv, n = 1)\n",
    "    Fu_uu, Fv_uu = dF_du(Fu, Fv, n = 2)\n",
    "    Fu_uv, Fv_uv = dF_du(Fu_v, Fv_v, n = 1)\n",
    "    Fu_vv, Fv_vv = dF_dv(Fu, Fv, n = 2)\n",
    "    C_u = dC_du(C, n = 1)\n",
    "    C_v = dC_dv(C, n = 1)\n",
    "    C_uu = dC_du(C, n = 2)\n",
    "    C_uv = dC_du(C_v, n = 1)\n",
    "    C_vv = dC_dv(C, n = 2)\n",
    "    #btime = time()\n",
    "    # define arguments for the lambdified expression from sympy and fill the result array\n",
    "    args = np.zeros(29)\n",
    "    for i in prange(nu):\n",
    "        u = Us[i]\n",
    "        for j in prange(nv):\n",
    "            v = Vs[j]\n",
    "            args = (V[i,j], V_u[i,j], V_v[i,j], V_uu[i,j], V_uv[i,j], V_vv[i,j], Fu[i,j], Fu_u[i,j], Fu_v[i,j], Fu_uu[i,j], Fu_uv[i,j], Fu_vv[i,j], Fv[i,j], Fv_u[i,j], Fv_v[i,j], Fv_uu[i,j], Fv_uv[i,j], Fv_vv[i,j], C[i,j], C_u[i,j], C_v[i,j], C_uu[i,j], C_uv[i,j], C_vv[i,j], u, v, a, J, N)\n",
    "            eq0_V[i,j] = eq0_V_lambdified(*args)\n",
    "            eq0_Fu[i,j] = eq0_Fu_lambdified(*args)\n",
    "            eq0_Fv[i,j] = eq0_Fv_lambdified(*args)\n",
    "            eq0_C[i,j] = eq0_C_lambdified(*args)\n",
    "    result = np.append(eq0_V.flatten(), eq0_Fu.flatten())\n",
    "    result = np.append(result, eq0_Fv.flatten())\n",
    "    result = np.append(result, eq0_C.flatten())\n",
    "    #ctime = time()\n",
    "    #print('b-a', btime - atime)\n",
    "    #print('c-b', ctime - btime)\n",
    "    #print(atime, btime, ctime)\n",
    "    #print('ab', btime - atime)\n",
    "    #print('bc', ctime - btime)\n",
    "    return result\n",
    "\n",
    "\n",
    "@njit(cache = True)\n",
    "def parta(V_Fu_Fv_C):\n",
    "    V = np.reshape(V_Fu_Fv_C[0:(nu*nv)], (nu,nv))\n",
    "    Fu = np.reshape(V_Fu_Fv_C[(nu*nv):2*(nu*nv)], (nu,nv))\n",
    "    Fv = np.reshape(V_Fu_Fv_C[2*(nu*nv):3*(nu*nv)], (nu,nv))\n",
    "    C = np.reshape(V_Fu_Fv_C[3*(nu*nv):],(nu,nv))\n",
    "    V_u = dV_du(V, n = 1)\n",
    "    V_v = dV_dv(V, n = 1)\n",
    "    V_uu = dV_du(V, n = 2)\n",
    "    V_uv = dV_du(V_v, n = 1)\n",
    "    V_vv = dV_dv(V, n = 2)\n",
    "    #a2 = time()\n",
    "    Fu_u, Fv_u = dF_du(Fu, Fv, n = 1)\n",
    "    #a3 = time()\n",
    "    Fu_v, Fv_v = dF_dv(Fu, Fv, n = 1)\n",
    "    #a4 = time()\n",
    "    Fu_uu, Fv_uu = dF_du(Fu, Fv, n = 2)\n",
    "    #a5 = time()\n",
    "    Fu_uv, Fv_uv = dF_du(Fu_v, Fv_v, n = 1)\n",
    "    #a6 = time()\n",
    "    Fu_vv, Fv_vv = dF_dv(Fu, Fv, n = 2)\n",
    "    #a7 = time()\n",
    "    C_u = dC_du(C, n = 1)\n",
    "    C_v = dC_dv(C, n = 1)\n",
    "    C_uu = dC_du(C, n = 2)\n",
    "    C_uv = dC_du(C_v, n = 1)\n",
    "    C_vv = dC_dv(C, n = 2)\n",
    "    #a4 = time()\n",
    "    #print('2', a3-a2) \n",
    "    #print('3', a4-a3) \n",
    "    #print('4', a5-a4) \n",
    "    #print('5', a6-a5) \n",
    "    #print('6', a7 - a6)\n",
    "    return V, V_u, V_v, V_uu, V_uv, V_vv, Fu, Fu_u, Fu_v, Fu_uu, Fu_uv, Fu_vv, Fv, Fv_u, Fv_v, Fv_uu, Fv_uv, Fv_vv, C, C_u, C_v, C_uu, C_uv, C_vv\n",
    "\n",
    "@njit(parallel = True, cache = True)\n",
    "def partb(derivatives):\n",
    "    V, V_u, V_v, V_uu, V_uv, V_vv, Fu, Fu_u, Fu_v, Fu_uu, Fu_uv, Fu_vv, Fv, Fv_u, Fv_v, Fv_uu, Fv_uv, Fv_vv, C, C_u, C_v, C_uu, C_uv, C_vv = derivatives\n",
    "    eq0_V = np.zeros((nu, nv))\n",
    "    eq0_Fu = np.zeros((nu, nv))\n",
    "    eq0_Fv = np.zeros((nu, nv))\n",
    "    eq0_C = np.zeros((nu, nv))\n",
    "    args = np.zeros(29)\n",
    "    for i in prange(nu):\n",
    "        u = Us[i]\n",
    "        for j in prange(nv):\n",
    "            v = Vs[j]\n",
    "            args = (V[i,j], V_u[i,j], V_v[i,j], V_uu[i,j], V_uv[i,j], V_vv[i,j], Fu[i,j], Fu_u[i,j], Fu_v[i,j], Fu_uu[i,j], Fu_uv[i,j], Fu_vv[i,j], Fv[i,j], Fv_u[i,j], Fv_v[i,j], Fv_uu[i,j], Fv_uv[i,j], Fv_vv[i,j], C[i,j], C_u[i,j], C_v[i,j], C_uu[i,j], C_uv[i,j], C_vv[i,j], u, v, a, J, N)\n",
    "            eq0_V[i,j] = eq0_V_lambdified(*args)\n",
    "            eq0_Fu[i,j] = eq0_Fu_lambdified(*args)\n",
    "            eq0_Fv[i,j] = eq0_Fv_lambdified(*args)\n",
    "            eq0_C[i,j] = eq0_C_lambdified(*args)\n",
    "    result = np.append(eq0_V.flatten(), eq0_Fu.flatten())\n",
    "    result = np.append(result, eq0_Fv.flatten())\n",
    "    result = np.append(result, eq0_C.flatten())\n",
    "    #ctime = time()\n",
    "    #print('b-a', btime - atime)\n",
    "    #print('c-b', ctime - btime)\n",
    "    #print(atime, btime, ctime)\n",
    "    #print('ab', btime - atime)\n",
    "    #print('bc', ctime - btime)\n",
    "    return result\n",
    "\n",
    "def g(V_Fu_Fv_C):\n",
    "    timea = time()\n",
    "    derivatives = parta(V_Fu_Fv_C)\n",
    "    timeb = time()\n",
    "    result = partb(derivatives)\n",
    "    timec = time()\n",
    "    print('part a', timeb-timea)\n",
    "    print('part b', timec-timeb)\n",
    "    return result\n",
    "\"\"\"\n",
    "def g(V_Fu_Fv_C):\n",
    "    start = time()\n",
    "    result = f(V_Fu_Fv_C)\n",
    "    end = time()\n",
    "    print(start, end)\n",
    "    return result\n",
    "\"\"\"\n",
    "\n",
    "# solve nonlinear problem\n",
    "x0 = np.zeros(4*nu*nv, dtype = float)\n",
    "x0[0:(nu*nv)] = -1\n",
    "Fu0 = np.zeros((nu,nv))\n",
    "for j, v in enumerate(Vs):\n",
    "    Fu0[:, j] = N * np.cosh(v) / a\n",
    "x0[(nu*nv):2*(nu*nv)] = Fu0.flatten()\n",
    "x0[3*(nu*nv):] = np.sqrt(-J)\n",
    "start = time()\n",
    "solution, infodict, ier, mesg = fsolve(f, x0, full_output = True)\n",
    "end = time()\n",
    "print(mesg)\n",
    "print(end-start)\n",
    "\n",
    "V = np.reshape(solution[0:(nu*nv)], (nu,nv))\n",
    "Fu = np.reshape(solution[(nu*nv):2*(nu*nv)], (nu,nv))\n",
    "Fv = np.reshape(solution[2*(nu*nv):3*(nu*nv)], (nu,nv))\n",
    "C = np.reshape(solution[3*(nu*nv):], (nu,nv))\n",
    "\n",
    "plt.imshow(V, cmap='hot', interpolation='nearest')\n",
    "plt.show()\n",
    "plt.imshow(Fu, cmap='hot', interpolation='nearest')\n",
    "plt.show()\n",
    "plt.imshow(Fv, cmap='hot', interpolation='nearest')\n",
    "plt.show()\n",
    "plt.imshow(C, cmap='hot', interpolation='nearest')\n",
    "plt.show()"
   ]
  },
  {
   "cell_type": "code",
   "execution_count": 10,
   "id": "f3cfb993",
   "metadata": {},
   "outputs": [
    {
     "name": "stdout",
     "output_type": "stream",
     "text": [
      "1.3500784934450394e-08\n",
      "1.9300578148904322e-10\n"
     ]
    },
    {
     "data": {
      "image/png": "[encoded data removed]",
      "text/plain": [
       "<Figure size 640x480 with 1 Axes>"
      ]
     },
     "metadata": {},
     "output_type": "display_data"
    },
    {
     "data": {
      "image/png": "[encoded data removed]",
      "text/plain": [
       "<Figure size 640x480 with 1 Axes>"
      ]
     },
     "metadata": {},
     "output_type": "display_data"
    },
    {
     "data": {
      "image/png": "[encoded data removed]",
      "text/plain": [
       "<Figure size 640x480 with 1 Axes>"
      ]
     },
     "metadata": {},
     "output_type": "display_data"
    },
    {
     "data": {
      "image/png": "[encoded data removed]",
      "text/plain": [
       "<Figure size 640x480 with 1 Axes>"
      ]
     },
     "metadata": {},
     "output_type": "display_data"
    }
   ],
   "source": [
    "error = infodict['fvec']\n",
    "print(np.max(np.abs(error)))\n",
    "print(np.mean(np.abs(error)))\n",
    "V_error = np.reshape(error[0:(nu*nv)], (nu,nv))\n",
    "Fu_error = np.reshape(error[(nu*nv):2*(nu*nv)], (nu,nv))\n",
    "Fv_error = np.reshape(error[2*(nu*nv):3*(nu*nv)], (nu,nv))\n",
    "C_error = np.reshape(error[3*(nu*nv):], (nu,nv))\n",
    "plt.imshow(np.abs(V_error), cmap='hot', interpolation='nearest')\n",
    "plt.show()\n",
    "plt.imshow(np.abs(Fu_error), cmap='hot', interpolation='nearest')\n",
    "plt.show()\n",
    "plt.imshow(np.abs(Fv_error), cmap='hot', interpolation='nearest')\n",
    "plt.show()\n",
    "plt.imshow(np.abs(C_error), cmap='hot', interpolation='nearest')\n",
    "plt.show()\n"
   ]
  },
  {
   "cell_type": "code",
   "execution_count": 11,
   "id": "395975d0",
   "metadata": {},
   "outputs": [
    {
     "name": "stdout",
     "output_type": "stream",
     "text": [
      "0\n"
     ]
    },
    {
     "data": {
      "image/png": "[encoded data removed]",
      "text/plain": [
       "<Figure size 640x480 with 1 Axes>"
      ]
     },
     "metadata": {},
     "output_type": "display_data"
    },
    {
     "data": {
      "image/png": "[encoded data removed]",
      "text/plain": [
       "<Figure size 640x480 with 1 Axes>"
      ]
     },
     "metadata": {},
     "output_type": "display_data"
    }
   ],
   "source": [
    "print(np.sum(C<0))\n",
    "test = np.zeros((2,2))\n",
    "test[0,0] = -1\n",
    "test[0,1] = 1\n",
    "plt.imshow(test, cmap='hot', interpolation='nearest')\n",
    "plt.show()\n",
    "plt.imshow(C<0, cmap='hot', interpolation='nearest')\n",
    "plt.show()\n"
   ]
  },
  {
   "cell_type": "code",
   "execution_count": 12,
   "id": "8e62ec67",
   "metadata": {},
   "outputs": [
    {
     "data": {
      "image/png": "[encoded data removed]",
      "text/plain": [
       "<Figure size 640x480 with 1 Axes>"
      ]
     },
     "metadata": {},
     "output_type": "display_data"
    },
    {
     "data": {
      "image/png": "[encoded data removed]",
      "text/plain": [
       "<Figure size 640x480 with 1 Axes>"
      ]
     },
     "metadata": {},
     "output_type": "display_data"
    }
   ],
   "source": [
    " np.zeros((2,2))\n",
    "test[0,0] = -1\n",
    "test[0,1] = 1\n",
    "plt.imshow(test, cmap='hot', interpolation='nearest')\n",
    "plt.show()\n",
    "plt.imshow(C<0, cmap='hot', interpolation='nearest')\n",
    "plt.show()\n"
   ]
  },
  {
   "cell_type": "code",
   "execution_count": 13,
   "id": "1428a9ef",
   "metadata": {},
   "outputs": [
    {
     "name": "stdout",
     "output_type": "stream",
     "text": [
      "V\n"
     ]
    },
    {
     "name": "stderr",
     "output_type": "stream",
     "text": [
      "134it [00:14,  9.40it/s]\n"
     ]
    },
    {
     "ename": "KeyboardInterrupt",
     "evalue": "",
     "output_type": "error",
     "traceback": [
      "\u001b[0;31m---------------------------------------------------------------------------\u001b[0m",
      "\u001b[0;31mKeyboardInterrupt\u001b[0m                         Traceback (most recent call last)",
      "Cell \u001b[0;32mIn[13], line 56\u001b[0m\n\u001b[1;32m     53\u001b[0m     plt\u001b[38;5;241m.\u001b[39mshow()\n\u001b[1;32m     55\u001b[0m \u001b[38;5;28mprint\u001b[39m(\u001b[38;5;124m'\u001b[39m\u001b[38;5;124mV\u001b[39m\u001b[38;5;124m'\u001b[39m)\n\u001b[0;32m---> 56\u001b[0m plot(V)\n\u001b[1;32m     57\u001b[0m \u001b[38;5;28mprint\u001b[39m(\u001b[38;5;124m'\u001b[39m\u001b[38;5;124mF_u\u001b[39m\u001b[38;5;124m'\u001b[39m)\n\u001b[1;32m     58\u001b[0m plot(Fu)\n",
      "Cell \u001b[0;32mIn[13], line 48\u001b[0m, in \u001b[0;36mplot\u001b[0;34m(field)\u001b[0m\n\u001b[1;32m     46\u001b[0m \u001b[38;5;28;01mfor\u001b[39;00m p \u001b[38;5;129;01min\u001b[39;00m field_points:\n\u001b[1;32m     47\u001b[0m     px, py, pz \u001b[38;5;241m=\u001b[39m p\n\u001b[0;32m---> 48\u001b[0m     d \u001b[38;5;241m=\u001b[39m dist(x, y, px, py)\n\u001b[1;32m     49\u001b[0m     \u001b[38;5;28;01mif\u001b[39;00m d \u001b[38;5;241m<\u001b[39m closest_dist:\n\u001b[1;32m     50\u001b[0m         Z[j, i] \u001b[38;5;241m=\u001b[39m pz\n",
      "Cell \u001b[0;32mIn[13], line 42\u001b[0m, in \u001b[0;36mplot.<locals>.dist\u001b[0;34m(x1, y1, x2, y2)\u001b[0m\n\u001b[1;32m     41\u001b[0m \u001b[38;5;28;01mdef\u001b[39;00m \u001b[38;5;21mdist\u001b[39m(x1, y1, x2, y2):\n\u001b[0;32m---> 42\u001b[0m     \u001b[38;5;28;01mreturn\u001b[39;00m np\u001b[38;5;241m.\u001b[39msqrt((x1\u001b[38;5;241m-\u001b[39mx2)\u001b[38;5;241m*\u001b[39m\u001b[38;5;241m*\u001b[39m\u001b[38;5;241m2\u001b[39m \u001b[38;5;241m+\u001b[39m (y1\u001b[38;5;241m-\u001b[39my2)\u001b[38;5;241m*\u001b[39m\u001b[38;5;241m*\u001b[39m\u001b[38;5;241m2\u001b[39m)\n",
      "\u001b[0;31mKeyboardInterrupt\u001b[0m: "
     ]
    }
   ],
   "source": [
    "from tqdm import tqdm\n",
    "V_points = []\n",
    "Fu_points = []\n",
    "Fv_points = []\n",
    "C_points = []\n",
    "for i, u in enumerate(Us):\n",
    "    for j, v in enumerate(Vs):\n",
    "        h = a / (np.cosh(v) - np.cos(u))\n",
    "        x = h * np.sinh(v)\n",
    "        y = h * np.sin(u)\n",
    "        V_points.append((x, y, V[i,j]))\n",
    "        Fu_points.append((x, y, Fu[i,j]))\n",
    "        Fv_points.append((x, y, Fv[i,j]))\n",
    "        C_points.append((x, y, C[i,j]))\n",
    "\n",
    "        \n",
    "def plot(field):\n",
    "    field_points = []\n",
    "    for i, u in enumerate(Us):\n",
    "        for j, v in enumerate(Vs):\n",
    "            h = a / (np.cosh(v) - np.cos(u))\n",
    "            x = h * np.sinh(v)\n",
    "            y = h * np.sin(u)\n",
    "            field_points.append((x, y, field[i,j]))\n",
    "    \n",
    "    min_x = min(p[0] for p in field_points)\n",
    "    max_x = max(p[0] for p in field_points)\n",
    "    min_y = min(p[1] for p in field_points)\n",
    "    max_y = max(p[1] for p in field_points)\n",
    "    min_z = min(p[2] for p in field_points)\n",
    "    max_z = max(p[2] for p in field_points)\n",
    "    max_x = 2*a\n",
    "    min_x = 0\n",
    "    max_y = a\n",
    "    min_y = -a\n",
    "    nx = 200\n",
    "    ny = 200\n",
    "    X = np.linspace(min_x, max_x, nx)\n",
    "    Y = np.linspace(min_y, max_y, ny)\n",
    "    Z = np.zeros((ny, nx))\n",
    "    def dist(x1, y1, x2, y2):\n",
    "        return np.sqrt((x1-x2)**2 + (y1-y2)**2)\n",
    "    for i, x in tqdm(enumerate(X)):\n",
    "        for j, y in enumerate(Y):\n",
    "            closest_dist = np.sqrt((max_x - min_x)**2 + (max_y - min_y)**2)\n",
    "            for p in field_points:\n",
    "                px, py, pz = p\n",
    "                d = dist(x, y, px, py)\n",
    "                if d < closest_dist:\n",
    "                    Z[j, i] = pz\n",
    "                    closest_dist = d\n",
    "    plt.imshow(Z, cmap='hot', interpolation='nearest')\n",
    "    plt.show()\n",
    "\n",
    "print('V')\n",
    "plot(V)\n",
    "print('F_u')\n",
    "plot(Fu)\n",
    "print('F_v')\n",
    "plot(Fv)\n",
    "print('C')\n",
    "plot(C)"
   ]
  },
  {
   "cell_type": "code",
   "execution_count": null,
   "id": "11856aca",
   "metadata": {},
   "outputs": [
    {
     "name": "stderr",
     "output_type": "stream",
     "text": [
      "200it [00:35,  5.68it/s]\n"
     ]
    },
    {
     "data": {
      "image/png": "[encoded data removed]",
      "text/plain": [
       "<Figure size 640x480 with 1 Axes>"
      ]
     },
     "metadata": {},
     "output_type": "display_data"
    },
    {
     "name": "stdout",
     "output_type": "stream",
     "text": [
      "483\n",
      "1117\n"
     ]
    }
   ],
   "source": [
    "Fu_u, Fv_u = dF_du(Fu, Fv, n = 1)\n",
    "Fu_v, Fv_v = dF_dv(Fu, Fv, n = 1)\n",
    "Fu_uu, Fv_uu = dF_du(Fu, Fv, n = 2)\n",
    "Fu_uv, Fv_uv = dF_du(Fu_v, Fv_v, n = 1)\n",
    "Fu_vv, Fv_vv = dF_dv(Fu, Fv, n = 2)\n",
    "B = np.zeros((nu,nv))\n",
    "for i, u in enumerate(Us):\n",
    "    for j, v in enumerate(Vs):\n",
    "        args = [Fu[i,j], Fu_u[i,j], Fu_v[i,j], Fu_uu[i,j], Fu_uv[i,j], Fu_vv[i,j]]\n",
    "        args.extend([Fv[i,j], Fv_u[i,j], Fv_v[i,j], Fv_uu[i,j], Fv_uv[i,j], Fv_vv[i,j]])\n",
    "        args.extend([u, v, a, N])\n",
    "        B[i,j] = B_lambdified(*args)\n",
    "plot(B)\n",
    "print(np.sum(B>0))\n",
    "print(np.sum(B<0))"
   ]
  },
  {
   "cell_type": "code",
   "execution_count": null,
   "id": "40dd1007",
   "metadata": {},
   "outputs": [
    {
     "name": "stderr",
     "output_type": "stream",
     "text": [
      "50it [00:01, 35.50it/s]\n",
      "50it [00:00, 46905.66it/s]\n"
     ]
    },
    {
     "data": {
      "image/png": "[encoded data removed]",
      "text/plain": [
       "<Figure size 640x480 with 1 Axes>"
      ]
     },
     "metadata": {},
     "output_type": "display_data"
    }
   ],
   "source": [
    "def plot_vector(field_u, field_v):\n",
    "    field_points = []\n",
    "    for i, u in enumerate(Us):\n",
    "        for j, v in enumerate(Vs):\n",
    "            h = a / (np.cosh(v) - np.cos(u))\n",
    "            x = h * np.sinh(v)\n",
    "            y = h * np.sin(u)\n",
    "            fpx, fpy = BP2cart(field_u[i,j], field_v[i,j], u, v)\n",
    "            field_points.append((x,y,fpx,fpy))    \n",
    "    min_x = min(p[0] for p in field_points)\n",
    "    max_x = max(p[0] for p in field_points)\n",
    "    min_y = min(p[1] for p in field_points)\n",
    "    max_y = max(p[1] for p in field_points)\n",
    "    #min_z = min(p[2] for p in field_points)\n",
    "    #max_z = max(p[2] for p in field_points)\n",
    "    nx = 50\n",
    "    ny = 50\n",
    "    XX = np.linspace(max_x/nx, max_x, nx)\n",
    "    YY = np.linspace(min_y, max_y, ny)\n",
    "    UU = np.zeros((nx, ny))\n",
    "    VV = np.zeros((nx, ny))\n",
    "    def dist(x1, y1, x2, y2):\n",
    "        return np.sqrt((x1-x2)**2 + (y1-y2)**2)\n",
    "    for i, x in tqdm(enumerate(XX)):\n",
    "        for j, y in enumerate(YY):\n",
    "            closest_dist = np.sqrt((max_x - min_x)**2 + (max_y - min_y)**2)\n",
    "            for p in field_points:\n",
    "                px, py, fpx, fpy = p\n",
    "                d = dist(x, y, px, py)\n",
    "                if d < closest_dist:\n",
    "                    UU[i,j] = fpx\n",
    "                    VV[i,j] = fpy\n",
    "                    closest_dist = d\n",
    "    XXX = []\n",
    "    YYY = []\n",
    "    UUU = []\n",
    "    VVV = []\n",
    "    for j, y in enumerate(YY):\n",
    "        XXX.append(0)\n",
    "        YYY.append(y)\n",
    "        UUU.append(0)\n",
    "        VVV.append(VV[0,j])\n",
    "    for i, x in tqdm(enumerate(XX)):\n",
    "        for j, y in enumerate(YY):\n",
    "            XXX.append(x)\n",
    "            YYY.append(y)\n",
    "            UUU.append(UU[i,j])\n",
    "            VVV.append(VV[i,j])\n",
    "            XXX.append(-x)\n",
    "            YYY.append(y)\n",
    "            UUU.append(-UU[i,j])\n",
    "            VVV.append(VV[i,j])\n",
    "    fig1, ax1 = plt.subplots()\n",
    "    Q = ax1.quiver(XXX, YYY, UUU, VVV, units='width', angles='xy', scale_units='xy', scale=5, pivot = 'middle')\n",
    "    plt.xlim(-max_x/4, max_x/4)\n",
    "    plt.ylim(min_y/2, max_y/2)\n",
    "    plt.savefig('test.pdf')\n",
    "    plt.show()\n",
    "\n",
    "current_u = np.zeros((nu, nv))\n",
    "current_v = np.zeros((nu, nv))\n",
    "norm = np.zeros((nu,nv))\n",
    "for i, u in enumerate(Us):\n",
    "    for j, v in enumerate(Vs):\n",
    "        current_u[i,j] = -(Fu[i,j] - N * np.cosh(v)/a) * C[i,j]**2\n",
    "        current_v[i,j] = -Fv[i,j] * C[i,j]**2\n",
    "        norm[i,j] = np.sqrt(current_u[i,j]**2 + current_v[i,j]**2)\n",
    "#plot(norm)\n",
    "plot_vector(current_u, current_v)"
   ]
  },
  {
   "cell_type": "code",
   "execution_count": null,
   "id": "00436dd3",
   "metadata": {},
   "outputs": [],
   "source": []
  },
  {
   "cell_type": "code",
   "execution_count": null,
   "id": "fd6f6a1a",
   "metadata": {},
   "outputs": [
    {
     "ename": "NameError",
     "evalue": "name 'r' is not defined",
     "output_type": "error",
     "traceback": [
      "\u001b[0;31m---------------------------------------------------------------------------\u001b[0m",
      "\u001b[0;31mNameError\u001b[0m                                 Traceback (most recent call last)",
      "Cell \u001b[0;32mIn[15], line 1\u001b[0m\n\u001b[0;32m----> 1\u001b[0m plt\u001b[38;5;241m.\u001b[39mplot(r[\u001b[38;5;241m0\u001b[39m:\u001b[38;5;241m100\u001b[39m],(dv_dr(V)\u001b[38;5;241m*\u001b[39m\u001b[38;5;241m*\u001b[39m\u001b[38;5;241m2\u001b[39m)[\u001b[38;5;241m0\u001b[39m:\u001b[38;5;241m100\u001b[39m])\n\u001b[1;32m      2\u001b[0m plt\u001b[38;5;241m.\u001b[39mtitle(\u001b[38;5;124m'\u001b[39m\u001b[38;5;124melectric\u001b[39m\u001b[38;5;124m'\u001b[39m)\n\u001b[1;32m      3\u001b[0m plt\u001b[38;5;241m.\u001b[39mshow()\n",
      "\u001b[0;31mNameError\u001b[0m: name 'r' is not defined"
     ]
    }
   ],
   "source": [
    "plt.plot(r[0:100],(dv_dr(V)**2)[0:100])\n",
    "plt.title('electric')\n",
    "plt.show()\n",
    "print(np.sum(r*dv_dr(V)**2))\n",
    "plt.plot((dl_dr(L)/r)**2)\n",
    "plt.title('magnetic')\n",
    "plt.show()\n",
    "print(np.sum(r*(dl_dr(L)/r)**2))\n",
    "plt.plot(dc_dr(C)**2)\n",
    "plt.title('elastic')\n",
    "plt.show()\n",
    "print(np.sum(r*dc_dr(C)**2))\n",
    "plt.plot((V**2*C**2)-j)\n",
    "plt.title('V2C2')\n",
    "plt.show()\n",
    "print(np.sum(r*((V**2*C**2)-j)))\n",
    "plt.plot(((L/r)**2*C**2))\n",
    "plt.title('A2C2')\n",
    "plt.show()\n",
    "print(np.sum(r*((L/r)**2*C**2)))\n",
    "plt.plot(C**2-j)\n",
    "plt.title('C2')\n",
    "plt.show()\n",
    "print(np.sum(r*(C**2-j)))\n",
    "\n",
    "\n",
    "dtau = dv_dr(V)**2 + (dl_dr(L)/r)**2 + dc_dr(C)**2 + (V**2 + (L/r)**2 + 1)*C**2 - 2*j\n",
    "plt.plot(dtau)\n",
    "plt.show()\n",
    "print('total',np.sum(dtau*r))"
   ]
  },
  {
   "cell_type": "code",
   "execution_count": null,
   "id": "fbad6112",
   "metadata": {},
   "outputs": [],
   "source": [
    "k = 1000\n",
    "j = 4/k**4\n",
    "w = 1\n",
    "\n",
    "nr = 4000\n",
    "max_r = k**2/2 * 400\n",
    "\n",
    "s = np.linspace(0,1, nr+2)[1:-1]\n",
    "ds = s[1]-s[0]\n",
    "r = s/(1-s)\n",
    "R = max_r / r[-1]\n",
    "r = r * R\n",
    "print(R, r[0])\n",
    "\n",
    "ds_dr = R/(r+R)**2\n",
    "d2s_dr2 = -2*R/(r+R)**3\n",
    "\n",
    "dr = ds / ds_dr\n",
    "\n",
    "def dv_ds(v, n = 1):\n",
    "    return d(v, ds, n, boundaries = [[v[0]],[-1]])\n",
    "\n",
    "def dl_ds(l, n = 1):\n",
    "    return d(l, ds, n, boundaries = [[-w],[0]])\n",
    "\n",
    "def dc_ds(c, n = 1):\n",
    "    return d(c, ds, n, boundaries = [[0],[np.sqrt(j)]])\n",
    "\n",
    "def df_dr(df_ds, n = 1):\n",
    "    if n == 0:\n",
    "        return (lambda f: f)\n",
    "    elif n == 1:\n",
    "        return (lambda f: df_ds(f, n = 1) * ds_dr)\n",
    "    elif n == 2:\n",
    "        return (lambda f: (df_ds(f, n = 2) * ds_dr**2 + df_ds(f, n = 1) * d2s_dr2))\n",
    "    else:\n",
    "        raise Exception('Invalid degree')\n",
    "\n",
    "    \n",
    "def dv_dr(v, n = 1):\n",
    "    return df_dr(dv_ds, n)(v)\n",
    "\n",
    "def dl_dr(l, n = 1):\n",
    "    return df_dr(dl_ds, n)(l)\n",
    "\n",
    "def dc_dr(c, n = 1):\n",
    "    return df_dr(dc_ds, n)(c)\n",
    "\n",
    "def f(v_l_c):\n",
    "    v = v_l_c[0:nr]\n",
    "    l = v_l_c[nr:2*nr]\n",
    "    c = v_l_c[2*nr:]\n",
    "    result = np.zeros(3*nr) # initialize result\n",
    "    dvs = np.zeros((nr,3))\n",
    "    dls = np.zeros((nr,3))\n",
    "    dcs = np.zeros((nr,3))\n",
    "    for i in range(3):\n",
    "        dvs[:,i] = dv_dr(v, n = i)\n",
    "        dls[:,i] = dl_dr(l, n = i)\n",
    "        dcs[:,i] = dc_dr(c, n = i)\n",
    "    # define arguments for the lambdified expression from sympy and fill the result array\n",
    "    args = np.zeros(11)\n",
    "    for i in range(nr):\n",
    "        args[0:3] = dvs[i,:]\n",
    "        args[3:6] = dls[i,:]\n",
    "        args[6:9] = dcs[i,:]\n",
    "        args[9] = r[i]\n",
    "        args[10] = j\n",
    "        result[i] = eq0_v_lambdified(*args)\n",
    "        result[i+nr] = eq0_l_lambdified(*args)\n",
    "        result[i+2*nr] = eq0_c_lambdified(*args)\n",
    "    return result\n",
    "# solve nonlinear problem\n",
    "x0 = np.zeros(3*nr)\n",
    "x0[0:nr] = -np.ones(nr)\n",
    "x0[2*nr:] = np.sqrt(j)*np.ones(nr)\n",
    "start = time()\n",
    "solution, infodict, ier, mesg = fsolve(f, x0, full_output = True, xtol = 1e-12)\n",
    "end = time()\n",
    "print(mesg)\n",
    "print(end-start)\n",
    "\n",
    "V = solution[0:nr]\n",
    "L = solution[nr:2*nr]\n",
    "C = solution[2*nr:]\n",
    "\n",
    "plt.scatter(r, V)\n",
    "plt.show()\n",
    "plt.scatter(r, L)\n",
    "plt.show()\n",
    "plt.scatter(r, C)\n",
    "plt.show()"
   ]
  },
  {
   "cell_type": "code",
   "execution_count": null,
   "id": "4fb27ace",
   "metadata": {},
   "outputs": [],
   "source": [
    "\n",
    "\n",
    "\n",
    "plt.scatter(r,(dv_dr(V)**2))\n",
    "plt.title('electric')\n",
    "plt.show()\n",
    "print(np.sum(dv_dr(V)**2*r*dr*(k**4/8)))\n",
    "plt.scatter(r, (dl_dr(L)/r)**2)\n",
    "plt.title('magnetic')\n",
    "plt.show()\n",
    "print(np.sum((dl_dr(L)/r)**2*r*dr*(k**4/8)))\n",
    "plt.scatter(r, 2*((V*C)**2 - j))\n",
    "plt.title('hydrodynamic')\n",
    "plt.show()\n",
    "print(np.sum((2*((V*C)**2-j))*r*dr*(k**4/8)))\n",
    "\n",
    "dtau = dv_dr(V)**2 + (dl_dr(L)/r)**2 + 2*((V*C)**2 - j)\n",
    "plt.scatter(r, dtau)\n",
    "plt.show()\n",
    "print('total', np.sum(dtau*r*dr)*k**4/8)"
   ]
  },
  {
   "cell_type": "code",
   "execution_count": null,
   "id": "2f5156b5",
   "metadata": {},
   "outputs": [],
   "source": [
    "max_idx = 2000\n",
    "plt.plot(r[0:max_idx], (r*dr*((V*C)**2-j))[0:max_idx])\n",
    "np.sum(r*dr*((V*C)**2-j))"
   ]
  },
  {
   "cell_type": "code",
   "execution_count": null,
   "id": "0a4ae037",
   "metadata": {},
   "outputs": [],
   "source": [
    "max_idx=3990\n",
    "\n",
    "plt.scatter(r[0:max_idx], V[0:max_idx])\n",
    "plt.show()\n",
    "plt.scatter(r[0:max_idx], L[0:max_idx])\n",
    "plt.show()\n",
    "plt.scatter(r[0:max_idx], C[0:max_idx])\n",
    "plt.show()"
   ]
  },
  {
   "cell_type": "code",
   "execution_count": null,
   "id": "b7d1ba52",
   "metadata": {},
   "outputs": [],
   "source": [
    "print(r[0])\n"
   ]
  },
  {
   "cell_type": "code",
   "execution_count": null,
   "id": "e71c021c",
   "metadata": {},
   "outputs": [],
   "source": [
    "print(r[0])\n",
    "print(k/2)"
   ]
  },
  {
   "cell_type": "code",
   "execution_count": null,
   "id": "c9b3e582",
   "metadata": {},
   "outputs": [],
   "source": [
    "from scipy.special import kn\n",
    "\n",
    "k = 1\n",
    "w = 1\n",
    "\n",
    "j = 4/k**4\n",
    "\n",
    "nr = 1000\n",
    "max_r = k/2 * 100\n",
    "\n",
    "r = np.linspace(0,max_r, nr+1)[1:]\n",
    "dr = r[1]-r[0]\n",
    "\n",
    "def bessel(l):\n",
    "    rm1 = len(l)*dr\n",
    "    const = l[-1] / (rm1*kn(1,np.sqrt(j)*rm1))\n",
    "    return (lambda R: const*R*kn(1,np.sqrt(j)*R))\n",
    "\n",
    "def dv_dr(v, n = 1):\n",
    "    return d(v, dr, n, boundaries = [[v[1]],[-1]])\n",
    "\n",
    "def dl_dr(l, n = 1):\n",
    "    return d(l, dr, n, boundaries = [[-w],[bessel(l)((len(l)+1)*dr)]])\n",
    "\n",
    "def dc_dr(c, n = 1):\n",
    "    return d(c, dr, n, boundaries = [[0],[np.sqrt(j)]])\n",
    "\n",
    "def f(v_l_c):\n",
    "    v = v_l_c[0:nr]\n",
    "    l = v_l_c[nr:2*nr]\n",
    "    c = v_l_c[2*nr:]\n",
    "    result = np.zeros(3*nr) # initialize result\n",
    "    dvs = np.zeros((nr,3))\n",
    "    dls = np.zeros((nr,3))\n",
    "    dcs = np.zeros((nr,3))\n",
    "    for i in range(3):\n",
    "        dvs[:,i] = dv_dr(v, n = i)\n",
    "        dls[:,i] = dl_dr(l, n = i)\n",
    "        dcs[:,i] = dc_dr(c, n = i)\n",
    "    # define arguments for the lambdified expression from sympy and fill the result array\n",
    "    args = np.zeros(11)\n",
    "    for i in range(nr):\n",
    "        args[0:3] = dvs[i,:]\n",
    "        args[3:6] = dls[i,:]\n",
    "        args[6:9] = dcs[i,:]\n",
    "        args[9] = r[i]\n",
    "        args[10] = j\n",
    "        result[i] = eq0_v_lambdified(*args)\n",
    "        result[i+nr] = eq0_l_lambdified(*args)\n",
    "        result[i+2*nr] = eq0_c_lambdified(*args)\n",
    "    return result\n",
    "# solve nonlinear problem\n",
    "x0 = np.zeros(3*nr)\n",
    "x0[0:nr] = -np.ones(nr)\n",
    "x0[2*nr:] = np.sqrt(j)*np.ones(nr)\n",
    "start = time()\n",
    "solution, infodict, ier, mesg = fsolve(f, x0, full_output = True, xtol = 1e-10)\n",
    "end = time()\n",
    "print(mesg)\n",
    "print(end-start)\n",
    "\n",
    "V = solution[0:nr]\n",
    "L = solution[nr:2*nr]\n",
    "C = solution[2*nr:]\n",
    "\n",
    "plt.plot(r, V)\n",
    "plt.show()\n",
    "plt.plot(r, L)\n",
    "plt.show()\n",
    "plt.plot(r, C)\n",
    "plt.show()"
   ]
  },
  {
   "cell_type": "code",
   "execution_count": null,
   "id": "8c775ff5",
   "metadata": {},
   "outputs": [],
   "source": [
    "from tqdm import tqdm\n",
    "\n",
    "# extend solutions\n",
    "\n",
    "max_r = k**2/2 * 100\n",
    "mult = int(max_r / r[-1])\n",
    "r_ext = np.zeros(mult * len(r))\n",
    "V_ext = np.zeros(mult*len(r))\n",
    "L_ext = np.zeros(mult*len(r))\n",
    "C_ext = np.zeros(mult*len(r))\n",
    "for i in tqdm(range(len(r_ext))):\n",
    "    r_ext[i] = r[0] + i * dr\n",
    "    try:\n",
    "        V_ext[i] = V[i]\n",
    "        L_ext[i] = L[i]\n",
    "        C_ext[i] = C[i]\n",
    "    except:\n",
    "        V_ext[i] = -1\n",
    "        L_ext[i] = bessel(L)(r_ext[i])\n",
    "        C_ext[i] = np.sqrt(j)\n",
    "        \n",
    "plt.plot(r_ext, V_ext)\n",
    "plt.show()\n",
    "plt.plot(r_ext, L_ext)\n",
    "plt.show()\n",
    "plt.plot(r_ext, C_ext)\n",
    "plt.show()"
   ]
  },
  {
   "cell_type": "code",
   "execution_count": null,
   "id": "94e1b02b",
   "metadata": {},
   "outputs": [],
   "source": [
    "electric = dv_dr(V_ext)**2\n",
    "magnetic = (dl_dr(L_ext)/r_ext)**2\n",
    "hydrodynamic = 2*((V_ext*C_ext)**2-j)\n",
    "total = electric + magnetic + hydrodynamic\n",
    "\n",
    "plt.scatter(r_ext, r_ext*electric)\n",
    "plt.title('electric')\n",
    "plt.show()\n",
    "print(np.sum(electric*r_ext*dr * k**4/8))\n",
    "\n",
    "plt.scatter(r_ext, r_ext*magnetic)\n",
    "plt.title('magnetic')\n",
    "plt.show()\n",
    "print(np.sum(magnetic*r_ext*dr * k**4/8))\n",
    "\n",
    "plt.scatter(r_ext, r_ext*hydrodynamic)\n",
    "plt.title('hydrodynamic')\n",
    "plt.show()\n",
    "print(np.sum(hydrodynamic*r_ext*dr * k**4/8))\n",
    "\n",
    "plt.scatter(r_ext, r_ext*total*dr * k**4/8)\n",
    "plt.title('total')\n",
    "plt.show()\n",
    "print(np.sum(total*r_ext*dr * k**4/8))"
   ]
  },
  {
   "cell_type": "code",
   "execution_count": null,
   "id": "0377f050",
   "metadata": {},
   "outputs": [],
   "source": [
    "plt.plot(L_ext[0:50000])"
   ]
  },
  {
   "cell_type": "code",
   "execution_count": null,
   "id": "6cde34c4",
   "metadata": {},
   "outputs": [],
   "source": [
    "max_idx2 = 100\n",
    "max_idx = max_idx2 * 2\n",
    "#max_idx = -1\n",
    "plt.plot(R2[0:max_idx2], (hydro2*R2*R2[0]*k**4/8)[0:max_idx2])\n",
    "plt.plot(r_ext[0:max_idx], (hydrodynamic*2*r_ext*r_ext[0]*k**4/8)[0:max_idx])\n"
   ]
  },
  {
   "cell_type": "code",
   "execution_count": null,
   "id": "7d30f29a",
   "metadata": {},
   "outputs": [],
   "source": [
    "R2 = r_ext\n",
    "V2, L2, C2 = V_ext, L_ext, C_ext\n",
    "electric2, magnetic2, hydro2, total2 = electric, magnetic, hydrodynamic, total\n"
   ]
  },
  {
   "cell_type": "code",
   "execution_count": null,
   "id": "c7358947",
   "metadata": {},
   "outputs": [],
   "source": [
    "#plt.plot(R2[0:50], hydro2[0:50])\n",
    "#plt.plot(r_ext[0:100], hydrodynamic[0:100])\n",
    "y = [(hydrodynamic*r_ext*2*r_ext[0])[2*i]* k**4/8 for i in range(500)] - (hydro2*R2*R2[0]* k**4/8)[0:500]\n",
    "plt.plot(y)\n",
    "print(np.sum(y))"
   ]
  },
  {
   "cell_type": "markdown",
   "id": "1fe3991e",
   "metadata": {},
   "source": [
    "print(np.sum(hydrodynamic*r_ext*r_ext[0]))\n",
    "print(np.sum(hydro2*R2*R2[0]))"
   ]
  },
  {
   "cell_type": "code",
   "execution_count": null,
   "id": "479b7582",
   "metadata": {},
   "outputs": [],
   "source": [
    "plt.plot(R2[0:50],electric2[0:50])\n",
    "plt.plot(r_ext[0:100], electric[0:100])"
   ]
  },
  {
   "cell_type": "code",
   "execution_count": null,
   "id": "11ae7a9f",
   "metadata": {},
   "outputs": [],
   "source": []
  },
  {
   "cell_type": "code",
   "execution_count": null,
   "id": "ab60c6a6",
   "metadata": {},
   "outputs": [],
   "source": [
    "#plt.plot(infodict['fvec'][0:nr])\n",
    "#plt.plot(infodict['fvec'][nr:2*nr])\n",
    "plt.plot(infodict['fvec'][2*nr:])"
   ]
  },
  {
   "cell_type": "code",
   "execution_count": null,
   "id": "e5e35f8d",
   "metadata": {},
   "outputs": [],
   "source": [
    "from scipy.special import kn\n",
    "from matplotlib import pyplot as plt\n",
    "from time import time\n",
    "import numpy as np\n",
    "from scipy.optimize import fsolve\n",
    "\n",
    "class Vortex:\n",
    "    def __init__(self, w, k, nr = 2500, max_r = None):\n",
    "        if max_r is None:\n",
    "            max_r = k/2 * 200\n",
    "        self.w = w\n",
    "        self.k = k\n",
    "        self.nr = nr\n",
    "        self.max_r = max_r\n",
    "        self.j = 4/k**4\n",
    "        self.r = np.linspace(0,self.max_r, self.nr+1)[1:]\n",
    "        self.dr = self.r[1]-self.r[0]\n",
    "        print(len(self.r)*self.dr, self.r[-1])\n",
    "\n",
    "    def bessel(self, l):\n",
    "        rm1 = len(l)*self.dr\n",
    "        const = l[-1] / (rm1*kn(1,np.sqrt(self.j)*rm1))\n",
    "        return (lambda R: const*R*kn(1,np.sqrt(j)*R))\n",
    "\n",
    "    def dv_dr(self, v, n = 1):\n",
    "        return d(v, self.dr, n, boundaries = [[v[1]],[-1]])\n",
    "\n",
    "    def dl_dr(self, l, n = 1):\n",
    "        return d(l, self.dr, n, boundaries = [[-self.w],[self.bessel(l)((len(l)+1)*self.dr)]])\n",
    "\n",
    "    def dc_dr(self, c, n = 1):\n",
    "        return d(c, self.dr, n, boundaries = [[0],[np.sqrt(self.j)]])\n",
    "\n",
    "    def solve(self, x0 = None, xtol = 1e-12):\n",
    "        def f(v_l_c):\n",
    "            v = v_l_c[0:self.nr]\n",
    "            l = v_l_c[self.nr:2*self.nr]\n",
    "            c = v_l_c[2*self.nr:]\n",
    "            result = np.zeros(3*self.nr) # initialize result\n",
    "            dvs = np.zeros((self.nr,3))\n",
    "            dls = np.zeros((self.nr,3))\n",
    "            dcs = np.zeros((self.nr,3))\n",
    "            for i in range(3):\n",
    "                dvs[:,i] = self.dv_dr(v, n = i)\n",
    "                dls[:,i] = self.dl_dr(l, n = i)\n",
    "                dcs[:,i] = self.dc_dr(c, n = i)\n",
    "            # define arguments for the lambdified expression from sympy and fill the result array\n",
    "            args = np.zeros(11)\n",
    "            for i in range(self.nr):\n",
    "                args[0:3] = dvs[i,:]\n",
    "                args[3:6] = dls[i,:]\n",
    "                args[6:9] = dcs[i,:]\n",
    "                args[9] = self.r[i]\n",
    "                args[10] = self.j\n",
    "                result[i] = eq0_v_lambdified(*args)\n",
    "                result[i+self.nr] = eq0_l_lambdified(*args)\n",
    "                result[i+2*self.nr] = eq0_c_lambdified(*args)\n",
    "            return result\n",
    "        # solve nonlinear problem\n",
    "        if x0 is None:\n",
    "            x0 = np.zeros(3*self.nr)\n",
    "            x0[0:self.nr] = -np.ones(self.nr)\n",
    "            x0[2*self.nr:] = np.sqrt(self.j)*np.ones(self.nr)\n",
    "        start = time()\n",
    "        self.solution, self.infodict, self.ier, self.mesg = fsolve(f, x0, full_output = True, xtol = xtol)\n",
    "        end = time()\n",
    "        self.time = end - start\n",
    "        self.v = self.solution[0:self.nr]\n",
    "        self.l = self.solution[self.nr:2*self.nr]\n",
    "        self.c = self.solution[2*self.nr:]\n",
    "        \n",
    "    def extend(self, max_R = None):\n",
    "        if max_R is None:\n",
    "            self.max_R = self.k**2/2 * 100\n",
    "        self.nR = int(self.max_R / self.dr)\n",
    "        self.R = np.zeros(self.nR)\n",
    "        self.V = np.zeros(self.nR)\n",
    "        self.L = np.zeros(self.nR)\n",
    "        self.C = np.zeros(self.nR)\n",
    "        for i in range(self.nR):\n",
    "            self.R[i] = self.r[0] + i*self.dr\n",
    "            try:\n",
    "                self.V[i] = self.v[i]\n",
    "                self.L[i] = self.l[i]\n",
    "                self.C[i] = self.c[i]\n",
    "            except:\n",
    "                self.V[i] = -1\n",
    "                self.L[i] = self.bessel(self.l)(self.R[i])\n",
    "                self.C[i] = np.sqrt(self.j)\n",
    "        \n",
    "    def integrate(self, f):\n",
    "        return np.sum(self.R * self.dr * f)\n",
    "    \n",
    "    def energies(self):\n",
    "        self.E = self.dv_dr(self.V)**2\n",
    "        self.M = (self.dl_dr(self.L)/self.R)**2\n",
    "        self.H = 2*((self.V*self.C)**2)\n",
    "        self.B = 2*j\n",
    "        self.T = self.E + self.M + self.H\n",
    "        self.D = self.T - self.B\n",
    "        \n",
    "        self.E_int = self.integrate(self.E)\n",
    "        self.M_int = self.integrate(self.M)\n",
    "        self.H_int = self.integrate(self.H)\n",
    "        self.B_int = self.integrate(self.B)\n",
    "        self.T_int = self.integrate(self.T)\n",
    "        self.D_int = self.integrate(self.D)"
   ]
  },
  {
   "cell_type": "code",
   "execution_count": null,
   "id": "d2b3bc2c",
   "metadata": {},
   "outputs": [],
   "source": [
    "ks = np.linspace(100, 1000, 10)\n",
    "vortices = []\n",
    "D_ints = []\n",
    "for i, k in enumerate(ks):\n",
    "    v = Vortex(1, k, 1000)\n",
    "    v.solve()\n",
    "    v.extend()\n",
    "    v.energies()\n",
    "    vortices.append(v)\n",
    "    D_ints.append(v.D_int)\n",
    "    print(v.mesg)\n",
    "    print(D_ints[-1])\n",
    "    plt.plot(v.V)\n",
    "    plt.show()\n",
    "    plt.plot(v.L)\n",
    "    plt.show()\n",
    "    plt.plot(v.C)\n",
    "    plt.show()\n",
    "plt.plot(ks, D_ints)\n",
    "plt.show()"
   ]
  },
  {
   "cell_type": "code",
   "execution_count": null,
   "id": "a2d15e43",
   "metadata": {},
   "outputs": [],
   "source": [
    "v = vortices[-1]\n",
    "plt.plot(v.L[0:2000])"
   ]
  },
  {
   "cell_type": "code",
   "execution_count": null,
   "id": "321db58a",
   "metadata": {},
   "outputs": [],
   "source": [
    "plt.plot(v.L[1000:])\n",
    "plt.show()\n",
    "plt.plot(v.C[0:1500])\n",
    "plt.show()\n",
    "print(v.L[2000])\n",
    "print(v.C[10])"
   ]
  },
  {
   "cell_type": "code",
   "execution_count": null,
   "id": "44ab2fd7",
   "metadata": {},
   "outputs": [],
   "source": [
    "v = Vortex(1, 1000, 1000)\n",
    "v.solve()"
   ]
  },
  {
   "cell_type": "code",
   "execution_count": null,
   "id": "96db0673",
   "metadata": {},
   "outputs": [],
   "source": [
    "v.extend()\n",
    "v.energies()"
   ]
  },
  {
   "cell_type": "code",
   "execution_count": null,
   "id": "3c18b760",
   "metadata": {},
   "outputs": [],
   "source": [
    "plt.plot(v.L[0:5000])"
   ]
  },
  {
   "cell_type": "code",
   "execution_count": null,
   "id": "9b315f47",
   "metadata": {},
   "outputs": [],
   "source": [
    "plt.plot(v.infodict['fvec'][0:v.nr])\n",
    "plt.show()\n",
    "plt.plot(v.infodict['fvec'][v.nr:2*v.nr])\n",
    "plt.show()\n",
    "plt.plot(v.infodict['fvec'][2*v.nr:])\n",
    "plt.show()"
   ]
  },
  {
   "cell_type": "code",
   "execution_count": null,
   "id": "94175cb3",
   "metadata": {},
   "outputs": [],
   "source": [
    "#plt.plot(v.r)\n",
    "#plt.plot(v.R)\n",
    "plt.plot(v.L[0:2000])\n",
    "#plt.plot(v.bessel(v.l)(v.r))"
   ]
  },
  {
   "cell_type": "code",
   "execution_count": null,
   "id": "d8e14690",
   "metadata": {},
   "outputs": [],
   "source": [
    "print(v.L>0)"
   ]
  },
  {
   "cell_type": "code",
   "execution_count": null,
   "id": "12bc8b17",
   "metadata": {},
   "outputs": [],
   "source": [
    "print(v.D_int)"
   ]
  },
  {
   "cell_type": "code",
   "execution_count": null,
   "id": "d128ceea",
   "metadata": {},
   "outputs": [],
   "source": [
    "plt.plot(v.R[0:100]*(v.H-v.B)[0:100])\n",
    "print(v.H_int)"
   ]
  },
  {
   "cell_type": "code",
   "execution_count": null,
   "id": "51353db6",
   "metadata": {},
   "outputs": [],
   "source": [
    "\n",
    "k = 10000\n",
    "w = 1\n",
    "\n",
    "j = 4/k**4\n",
    "\n",
    "nr = 1000\n",
    "max_r = k * 20\n",
    "r = np.linspace(0,max_r, nr+1)[1:]\n",
    "dr = r[1]-r[0]\n",
    "\n",
    "def dv_dr(v, n = 1):\n",
    "    return d(v, dr, n, boundaries = [[v[0]],[-1]])\n",
    "\n",
    "def dl_dr(l, n = 1):\n",
    "    return d(l, dr, n, boundaries = [[-w],[0]])\n",
    "\n",
    "def dc_dr(c, n = 1):\n",
    "    return d(c, dr, n, boundaries = [[0],[np.sqrt(j)]])\n",
    "\n",
    "def f(v_l_c):\n",
    "    v = v_l_c[0:nr]\n",
    "    l = v_l_c[nr:2*nr]\n",
    "    c = v_l_c[2*nr:]\n",
    "    result = np.zeros(3*nr) # initialize result\n",
    "    dvs = np.zeros((nr,3))\n",
    "    dls = np.zeros((nr,3))\n",
    "    dcs = np.zeros((nr,3))\n",
    "    for i in range(3):\n",
    "        dvs[:,i] = dv_dr(v, n = i)\n",
    "        dls[:,i] = dl_dr(l, n = i)\n",
    "        dcs[:,i] = dc_dr(c, n = i)\n",
    "    # define arguments for the lambdified expression from sympy and fill the result array\n",
    "    args = np.zeros(11)\n",
    "    for i in range(nr):\n",
    "        args[0:3] = dvs[i,:]\n",
    "        args[3:6] = dls[i,:]\n",
    "        args[6:9] = dcs[i,:]\n",
    "        args[9] = r[i]\n",
    "        args[10] = j\n",
    "        result[i] = eq0_v_lambdified(*args)\n",
    "        result[i+nr] = eq0_l_lambdified(*args)\n",
    "        result[i+2*nr] = eq0_c_lambdified(*args)\n",
    "    return result\n",
    "# solve nonlinear problem\n",
    "x0 = np.zeros(3*nr)\n",
    "x0[0:nr] = -np.ones(nr)\n",
    "x0[2*nr:] = np.sqrt(j)*np.ones(nr)\n",
    "start = time()\n",
    "solution, infodict, ier, mesg = fsolve(f, x0, full_output = True, xtol = 1e-10)\n",
    "end = time()\n",
    "print(mesg)\n",
    "print(end-start)\n",
    "\n",
    "V = solution[0:nr]\n",
    "L = solution[nr:2*nr]\n",
    "C = solution[2*nr:]\n",
    "\n",
    "plt.plot(r, V)\n",
    "plt.show()\n",
    "plt.plot(r, L)\n",
    "plt.show()\n",
    "plt.plot(r, C)\n",
    "plt.show()\n",
    "\n",
    "dtau = dv_dr(V)**2 / 2 + (dl_dr(L)/r)**2 / 2 + V**2 * C** 2 - j\n",
    "plt.plot(r, dtau)\n",
    "plt.show()\n",
    "print(np.sum(dtau*r))"
   ]
  },
  {
   "cell_type": "code",
   "execution_count": null,
   "id": "0cccf59d",
   "metadata": {},
   "outputs": [],
   "source": [
    "print(V>-1)"
   ]
  },
  {
   "cell_type": "code",
   "execution_count": null,
   "id": "91540214",
   "metadata": {},
   "outputs": [],
   "source": [
    "dtau = dv_dr(V)**2 / 2 + (dl_dr(L)/r)**2 / 2 + V**2 * C** 2 - j\n",
    "plt.plot(r, dtau)\n",
    "plt.show()\n",
    "print(np.sum(dtau*r))"
   ]
  },
  {
   "cell_type": "code",
   "execution_count": null,
   "id": "13d8d719",
   "metadata": {},
   "outputs": [],
   "source": [
    "plt.plot(L[0:10])"
   ]
  },
  {
   "cell_type": "code",
   "execution_count": null,
   "id": "48419e9c",
   "metadata": {},
   "outputs": [],
   "source": []
  },
  {
   "cell_type": "code",
   "execution_count": null,
   "id": "c66435bf",
   "metadata": {},
   "outputs": [],
   "source": []
  }
 ],
 "metadata": {
  "kernelspec": {
   "display_name": "Python 3 (ipykernel)",
   "language": "python",
   "name": "python3"
  },
  "language_info": {
   "codemirror_mode": {
    "name": "ipython",
    "version": 3
   },
   "file_extension": ".py",
   "mimetype": "text/x-python",
   "name": "python",
   "nbconvert_exporter": "python",
   "pygments_lexer": "ipython3",
   "version": "3.11.7"
  }
 },
 "nbformat": 4,
 "nbformat_minor": 5
}
